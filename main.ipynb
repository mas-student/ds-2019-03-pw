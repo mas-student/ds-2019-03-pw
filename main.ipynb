{
 "cells": [
  {
   "cell_type": "code",
   "execution_count": 1,
   "metadata": {
    "scrolled": true
   },
   "outputs": [],
   "source": [
    "%load_ext autoreload\n",
    "%autoreload 2\n",
    "%matplotlib inline\n",
    "\n",
    "import os\n",
    "import sys\n",
    "import logging\n",
    "\n",
    "from fonduer import Meta, init_logging\n",
    "from fonduer.candidates import CandidateExtractor\n",
    "from fonduer.candidates.models import candidate_subclass\n",
    "from fonduer.candidates.models import Mention\n",
    "from fonduer.candidates import MentionExtractor\n",
    "from fonduer.candidates import MentionNgrams\n",
    "from fonduer.utils.data_model_utils import get_row_ngrams\n",
    "from fonduer.candidates.matchers import LambdaFunctionMatcher, Intersect, Union\n",
    "from fonduer.candidates.models import mention_subclass\n",
    "from fonduer.parser.models import Document, Sentence\n",
    "from fonduer.parser.preprocessors import HTMLDocPreprocessor\n",
    "from fonduer.parser import Parser\n",
    "import ipywidgets as widgets\n",
    "from ipywidgets import interact, interact_manual\n",
    "from pyparsing import Word, alphas\n",
    "from kanren import Relation, facts, var, run"
   ]
  },
  {
   "cell_type": "code",
   "execution_count": 2,
   "metadata": {},
   "outputs": [
    {
     "name": "stderr",
     "output_type": "stream",
     "text": [
      "[2019-10-04 15:16:47,387][INFO] fonduer.meta:50 - Setting logging directory to: logs/2019-10-04_15-16-47\n",
      "[2019-10-04 15:16:47,428][INFO] fonduer.meta:134 - Connecting user:None to db:5432/postgres\n",
      "[2019-10-04 15:16:47,570][INFO] fonduer.meta:161 - Initializing the storage schema\n"
     ]
    }
   ],
   "source": [
    "PARALLEL = 4\n",
    "\n",
    "DSN = os.environ.get('DSN')\n",
    "\n",
    "init_logging(log_dir=\"share/logs\")\n",
    "\n",
    "session = Meta.init(DSN).Session()"
   ]
  },
  {
   "cell_type": "code",
   "execution_count": 3,
   "metadata": {},
   "outputs": [
    {
     "name": "stdout",
     "output_type": "stream",
     "text": [
      "Documents: 2\n",
      "Sentences: 1060\n"
     ]
    }
   ],
   "source": [
    "docs_path = \"data/perfomers/\"\n",
    "doc_preprocessor = HTMLDocPreprocessor(docs_path)\n",
    "\n",
    "if session.query(Document).count() == 0:\n",
    "    print(\"Documents not found: initing...\")\n",
    "    corpus_parser = Parser(session, structural=True, lingual=True)\n",
    "    %time corpus_parser.apply(doc_preprocessor, parallelism=PARALLEL)\n",
    "\n",
    "print(f\"Documents: {session.query(Document).count()}\")\n",
    "print(f\"Sentences: {session.query(Sentence).count()}\")"
   ]
  },
  {
   "cell_type": "code",
   "execution_count": 4,
   "metadata": {},
   "outputs": [],
   "source": [
    "docs = session.query(Document).order_by(Document.name).all()\n",
    "ld = len(docs)"
   ]
  },
  {
   "cell_type": "code",
   "execution_count": 5,
   "metadata": {},
   "outputs": [],
   "source": [
    "Performername = mention_subclass(\"Performername\")\n",
    "Origin = mention_subclass(\"Origin\")"
   ]
  },
  {
   "cell_type": "code",
   "execution_count": 6,
   "metadata": {},
   "outputs": [],
   "source": [
    "def mention_span_matches_file_name(mention):\n",
    "    cheking_string = mention.get_span()\n",
    "    file_name = mention.sentence.document.name.replace(\"_\", \" \")\n",
    "    if cheking_string == file_name:\n",
    "        return True\n",
    "    else:\n",
    "        return False\n",
    "\n",
    "performer_name_matcher = LambdaFunctionMatcher(func=mention_span_matches_file_name)"
   ]
  },
  {
   "cell_type": "code",
   "execution_count": 7,
   "metadata": {},
   "outputs": [],
   "source": [
    "def is_in_origin_table_row(mention):\n",
    "    if not mention.sentence.is_tabular():\n",
    "        return False\n",
    "    ngrams = get_row_ngrams(mention, lower=True)\n",
    "    origin_place_words = set([\"origin\"])\n",
    "    ngrams = list(ngrams)\n",
    "    if origin_place_words <= set(ngrams):\n",
    "        return True\n",
    "    else:\n",
    "        return False\n",
    "\n",
    "\n",
    "def origin_left_aligned_to_punctuation(mention):\n",
    "    for sentence in mention.sentence.cell.sentences:\n",
    "        sentence_parts = sentence.text.split(\",\")\n",
    "        for sentence_part in sentence_parts:\n",
    "            if sentence_part.startswith(mention.get_span()):\n",
    "                return True\n",
    "    return False\n",
    "\n",
    "\n",
    "def no_commas_in_origin(mention):\n",
    "    if \",\" in mention.get_span():\n",
    "        return False\n",
    "    else:\n",
    "        return True"
   ]
  },
  {
   "cell_type": "code",
   "execution_count": 8,
   "metadata": {},
   "outputs": [],
   "source": [
    "origin_in_labeled_row_matcher = LambdaFunctionMatcher(\n",
    "    func=is_in_origin_table_row\n",
    ")\n",
    "origin_in_labeled_row_matcher.longest_match_only = False\n",
    "origin_no_commas_matcher = LambdaFunctionMatcher(func=no_commas_in_origin)\n",
    "origin_left_aligned_matcher = LambdaFunctionMatcher(\n",
    "    func=origin_left_aligned_to_punctuation\n",
    ")\n",
    "\n",
    "origin_matcher = Intersect(\n",
    "    origin_in_labeled_row_matcher,\n",
    "    origin_no_commas_matcher,\n",
    "    origin_left_aligned_matcher,\n",
    ")"
   ]
  },
  {
   "cell_type": "code",
   "execution_count": 9,
   "metadata": {},
   "outputs": [],
   "source": [
    "performer_name_ngrams = MentionNgrams(n_max=4, n_min=2)\n",
    "origin_ngrams = MentionNgrams(n_max=3)"
   ]
  },
  {
   "cell_type": "code",
   "execution_count": 10,
   "metadata": {},
   "outputs": [],
   "source": [
    "mention_extractor = MentionExtractor(\n",
    "    session,\n",
    "    [Performername, Origin],\n",
    "    [performer_name_ngrams, origin_ngrams, ],\n",
    "    [performer_name_matcher, origin_matcher, ],\n",
    ")"
   ]
  },
  {
   "cell_type": "code",
   "execution_count": 11,
   "metadata": {
    "scrolled": false
   },
   "outputs": [
    {
     "name": "stderr",
     "output_type": "stream",
     "text": [
      "[2019-10-04 15:16:48,800][INFO] fonduer.candidates.mentions:459 - Clearing table: performername\n",
      "[2019-10-04 15:16:48,884][INFO] fonduer.candidates.mentions:459 - Clearing table: origin\n",
      "[2019-10-04 15:16:48,917][INFO] fonduer.utils.udf:54 - Running UDF...\n"
     ]
    },
    {
     "data": {
      "application/vnd.jupyter.widget-view+json": {
       "model_id": "8c5114f2c5ac4cbcb7a1df6fa59cdd4c",
       "version_major": 2,
       "version_minor": 0
      },
      "text/plain": [
       "HBox(children=(IntProgress(value=0, max=2), HTML(value='')))"
      ]
     },
     "metadata": {},
     "output_type": "display_data"
    },
    {
     "name": "stdout",
     "output_type": "stream",
     "text": [
      "\n",
      "Total Mentions: 4 (2 2 names)\n",
      "Names [Origin(SpanMention(\"Germany\", sentence=1519, chars=[0,6], words=[0,0])), Origin(SpanMention(\"Germany\", sentence=2092, chars=[0,6], words=[0,0]))] [Performername(SpanMention(\"Qntal - Wikipedia\", sentence=582, chars=[0,16], words=[0,2])), Performername(SpanMention(\"Blutengel - Wikipedia\", sentence=1059, chars=[0,20], words=[0,2]))]\n"
     ]
    }
   ],
   "source": [
    "mention_extractor.apply(docs, parallelism=PARALLEL)\n",
    "num_names = session.query(Performername).count()\n",
    "num_origins = session.query(Origin).count()\n",
    "\n",
    "print(\n",
    "    f\"Total Mentions: {session.query(Mention).count()} ({num_names} {num_origins} names)\"\n",
    ")\n",
    "print(f'Names {list(session.query(Origin))} {list(session.query(Performername))}')"
   ]
  },
  {
   "cell_type": "code",
   "execution_count": 12,
   "metadata": {},
   "outputs": [
    {
     "name": "stderr",
     "output_type": "stream",
     "text": [
      "[2019-10-04 15:16:49,888][INFO] fonduer.candidates.candidates:125 - Clearing table performername_origin (split 0)\n",
      "[2019-10-04 15:16:49,950][INFO] fonduer.utils.udf:54 - Running UDF...\n"
     ]
    },
    {
     "data": {
      "application/vnd.jupyter.widget-view+json": {
       "model_id": "9e8f090ecd2643ee81802a28ab8c38c0",
       "version_major": 2,
       "version_minor": 0
      },
      "text/plain": [
       "HBox(children=(IntProgress(value=0, max=2), HTML(value='')))"
      ]
     },
     "metadata": {},
     "output_type": "display_data"
    },
    {
     "name": "stdout",
     "output_type": "stream",
     "text": [
      "\n",
      "Number of Candidates: 2\n",
      "Candidats [PerformernameOrigin(Performername(SpanMention(\"Qntal - Wikipedia\", sentence=582, chars=[0,16], words=[0,2])), Origin(SpanMention(\"Germany\", sentence=1519, chars=[0,6], words=[0,0]))), PerformernameOrigin(Performername(SpanMention(\"Blutengel - Wikipedia\", sentence=1059, chars=[0,20], words=[0,2])), Origin(SpanMention(\"Germany\", sentence=2092, chars=[0,6], words=[0,0])))]\n"
     ]
    }
   ],
   "source": [
    "PerformernameOrigin = candidate_subclass(\n",
    "    \"PerformernameOrigin\", [Performername, Origin]\n",
    ")\n",
    "\n",
    "candidate_extractor = CandidateExtractor(session, [PerformernameOrigin])\n",
    "candidate_extractor.apply(docs, split=0, parallelism=PARALLEL)\n",
    "\n",
    "print(\n",
    "    f\"Number of Candidates: {session.query(PerformernameOrigin).count()}\"\n",
    ")\n",
    "\n",
    "print(f'Candidats {list(session.query(PerformernameOrigin))}')\n",
    "# c = list(session.query(PerformernameOrigin))[0]"
   ]
  },
  {
   "cell_type": "code",
   "execution_count": 13,
   "metadata": {},
   "outputs": [],
   "source": [
    "origination = Relation()\n",
    "# x = var()\n",
    "performer_origins = []\n",
    "\n",
    "for cand in session.query(PerformernameOrigin):\n",
    "    performer_origins.append((cand.origin.context.get_span().lower(), cand.performername.context.get_span().lower()))\n",
    "    \n",
    "facts(origination, *performer_origins)"
   ]
  },
  {
   "cell_type": "code",
   "execution_count": 14,
   "metadata": {},
   "outputs": [
    {
     "data": {
      "application/vnd.jupyter.widget-view+json": {
       "model_id": "a30fbdd115b1427c917b7d406b154c04",
       "version_major": 2,
       "version_minor": 0
      },
      "text/plain": [
       "interactive(children=(Text(value='What is origin for qntal?', description='question'), Output()), _dom_classes…"
      ]
     },
     "metadata": {},
     "output_type": "display_data"
    }
   ],
   "source": [
    "@interact\n",
    "def answer(question='What is origin for qntal?'):\n",
    "    query = question\n",
    "    what = 'What' + ' ' + 'is' + Word(alphas).setResultsName('object') + 'for' + Word(alphas).setResultsName('subject') + \"?\"\n",
    "    \n",
    "    try:\n",
    "        res = what.parseString(query)\n",
    "\n",
    "    except Exception as e:\n",
    "        print('Incorrect question.\\nInput question that like to \"What is origin for performer name?\"')\n",
    "        pass\n",
    "\n",
    "    else:\n",
    "        if res['object'] == 'origin':\n",
    "            x = var()\n",
    "            subject = res['subject'].lower()\n",
    "            origin = (run(3, x, origination(x, f\"{subject} - wikipedia\"))+(None,))[0]\n",
    "            if origin is None:\n",
    "                performers = [\n",
    "                    cand.performername.context.get_span().lower().split('-')[0].strip() \n",
    "                    for cand\n",
    "                    in session.query(PerformernameOrigin)\n",
    "                ]\n",
    "                performers = ', '.join(performers)\n",
    "                print(f'Performer {subject} not found. Known performers are {performers}')\n",
    "            \n",
    "            else:\n",
    "                print(f'Performer {subject} is originated from {origin}')\n"
   ]
  }
 ],
 "metadata": {
  "kernelspec": {
   "display_name": "Python 3",
   "language": "python",
   "name": "python3"
  },
  "language_info": {
   "codemirror_mode": {
    "name": "ipython",
    "version": 3
   },
   "file_extension": ".py",
   "mimetype": "text/x-python",
   "name": "python",
   "nbconvert_exporter": "python",
   "pygments_lexer": "ipython3",
   "version": "3.6.7"
  }
 },
 "nbformat": 4,
 "nbformat_minor": 2
}
